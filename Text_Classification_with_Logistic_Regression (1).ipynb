{
  "nbformat": 4,
  "nbformat_minor": 0,
  "metadata": {
    "colab": {
      "provenance": []
    },
    "kernelspec": {
      "name": "python3",
      "display_name": "Python 3"
    },
    "language_info": {
      "name": "python"
    }
  },
  "cells": [
    {
      "cell_type": "markdown",
      "source": [
        "# Load data and import libraries"
      ],
      "metadata": {
        "id": "28AVgKNB23E_"
      }
    },
    {
      "cell_type": "code",
      "source": [
        "# Mounting Google Drive to access documents\n",
        "from google.colab import drive\n",
        "drive.mount('/content/drive')\n",
        "\n",
        "# Importing Required Libraries\n",
        "import os\n",
        "import numpy as np\n",
        "import re\n",
        "from sklearn.metrics import accuracy_score, precision_score, recall_score"
      ],
      "metadata": {
        "colab": {
          "base_uri": "https://localhost:8080/"
        },
        "id": "FKjjH2YXPkWN",
        "outputId": "b3067437-2bf6-4ff3-90cf-0c2b783fec61"
      },
      "execution_count": 24,
      "outputs": [
        {
          "output_type": "stream",
          "name": "stdout",
          "text": [
            "Drive already mounted at /content/drive; to attempt to forcibly remount, call drive.mount(\"/content/drive\", force_remount=True).\n"
          ]
        }
      ]
    },
    {
      "cell_type": "markdown",
      "source": [
        "##Prepare data"
      ],
      "metadata": {
        "id": "LV3CEmqiiexa"
      }
    },
    {
      "cell_type": "code",
      "source": [
        "def load_data(directory):\n",
        "    texts = []\n",
        "    labels = []\n",
        "\n",
        "    # Loop through each file in the directory\n",
        "    for filename in os.listdir(directory):\n",
        "        if filename.endswith(\".txt\"):\n",
        "            label = filename.split('_')[0]  # Assuming labels are in the filename, like 'label_filename.txt'\n",
        "            with open(os.path.join(directory, filename), 'r') as file:\n",
        "                texts.append(file.read())\n",
        "                labels.append(label)\n",
        "\n",
        "    return texts, np.array(labels)\n",
        "\n",
        "# Example usage$\n",
        "data_dir = \"//content/drive/MyDrive/dataset/Hotels of Nepal\"\n",
        "texts, labels = load_data(data_dir)"
      ],
      "metadata": {
        "id": "zIXOqvTSgGhU"
      },
      "execution_count": 25,
      "outputs": []
    },
    {
      "cell_type": "markdown",
      "source": [
        "#Preprocessing\n"
      ],
      "metadata": {
        "id": "EtwWfpSyabuG"
      }
    },
    {
      "cell_type": "markdown",
      "source": [
        "##Count Vectorization\n"
      ],
      "metadata": {
        "id": "CnTE0VEgbdT-"
      }
    },
    {
      "cell_type": "code",
      "source": [
        "## Tokenization and Vectorization\n",
        "def tokenize(text):\n",
        "    # Remove punctuation and tokenize\n",
        "    return re.findall(r'\\b\\w+\\b', text.lower())\n",
        "\n",
        "def build_vocab(texts):\n",
        "    vocabulary = {}\n",
        "    index = 0\n",
        "    for text in texts:\n",
        "        tokens = tokenize(text)\n",
        "        for token in tokens:\n",
        "            if token not in vocabulary:\n",
        "                vocabulary[token] = index\n",
        "                index += 1\n",
        "    return vocabulary\n",
        "\n",
        "def text_to_vector(text, vocabulary):\n",
        "    vector = [0] * len(vocabulary)\n",
        "    tokens = tokenize(text)\n",
        "    for token in tokens:\n",
        "        if token in vocabulary:\n",
        "            index = vocabulary[token]\n",
        "            vector[index] += 1\n",
        "    return vector\n",
        "\n",
        "# Build vocabulary\n",
        "vocabulary = build_vocab(texts)\n",
        "\n",
        "# Convert texts to vectors\n",
        "X = np.array([text_to_vector(text, vocabulary) for text in texts])"
      ],
      "metadata": {
        "id": "kb_klcPQadme"
      },
      "execution_count": 19,
      "outputs": []
    },
    {
      "cell_type": "markdown",
      "source": [
        "##Label Encoding"
      ],
      "metadata": {
        "id": "GQXJFSOrawaX"
      }
    },
    {
      "cell_type": "code",
      "source": [
        "## Label Encoding\n",
        "def encode_labels(labels):\n",
        "    label_to_index = {}\n",
        "    index = 0\n",
        "    encoded_labels = []\n",
        "\n",
        "    for label in labels:\n",
        "        if label not in label_to_index:\n",
        "            label_to_index[label] = index\n",
        "            index += 1\n",
        "        encoded_labels.append(label_to_index[label])\n",
        "\n",
        "    return np.array(encoded_labels), label_to_index\n",
        "\n",
        "# Encode labels\n",
        "y, label_to_index = encode_labels(labels)"
      ],
      "metadata": {
        "id": "ZAuIZYY2avPJ"
      },
      "execution_count": 20,
      "outputs": []
    },
    {
      "cell_type": "markdown",
      "source": [
        "##Logistic Regression Model"
      ],
      "metadata": {
        "id": "mSSxWbDEbEZF"
      }
    },
    {
      "cell_type": "code",
      "source": [
        "class LogisticRegression:\n",
        "    def __init__(self, learning_rate=0.01, epochs=1000):\n",
        "        self.learning_rate = learning_rate\n",
        "        self.epochs = epochs\n",
        "        self.weights = None\n",
        "        self.bias = None\n",
        "\n",
        "    def sigmoid(self, z):\n",
        "        return 1 / (1 + np.exp(-z))\n",
        "\n",
        "    def fit(self, X, y):\n",
        "        # Initialize weights and bias\n",
        "        n_samples, n_features = X.shape\n",
        "        self.weights = np.zeros(n_features)\n",
        "        self.bias = 0\n",
        "\n",
        "        # Gradient descent\n",
        "        for _ in range(self.epochs):\n",
        "            # Linear model\n",
        "            linear_model = np.dot(X, self.weights) + self.bias\n",
        "            # Apply sigmoid function\n",
        "            y_predicted = self.sigmoid(linear_model)\n",
        "\n",
        "            # Compute gradients\n",
        "            dw = (1 / n_samples) * np.dot(X.T, (y_predicted - y))\n",
        "            db = (1 / n_samples) * np.sum(y_predicted - y)\n",
        "\n",
        "            # Update weights and bias\n",
        "            self.weights -= self.learning_rate * dw\n",
        "            self.bias -= self.learning_rate * db\n",
        "\n",
        "    def predict(self, X):\n",
        "        linear_model = np.dot(X, self.weights) + self.bias\n",
        "        y_predicted = self.sigmoid(linear_model)\n",
        "        return [1 if i > 0.5 else 0 for i in y_predicted]\n",
        "\n",
        "# Training the model\n",
        "model = LogisticRegression(learning_rate=0.01, epochs=1000)\n",
        "model.fit(X, y)"
      ],
      "metadata": {
        "id": "qvJmwRv_bCv0"
      },
      "execution_count": 21,
      "outputs": []
    },
    {
      "cell_type": "markdown",
      "source": [
        "##Evaluation"
      ],
      "metadata": {
        "id": "FppREU8PbQkY"
      }
    },
    {
      "cell_type": "code",
      "source": [
        "y_pred = model.predict(X)\n",
        "\n",
        "accuracy = accuracy_score(y, y_pred)\n",
        "precision = precision_score(y, y_pred, average='micro')\n",
        "recall = recall_score(y, y_pred, average='micro')\n",
        "\n",
        "print(f\"Accuracy: {accuracy:.2f}\")\n",
        "print(f\"Precision: {precision:.2f}\")\n",
        "print(f\"Recall: {recall:.2f}\")"
      ],
      "metadata": {
        "colab": {
          "base_uri": "https://localhost:8080/"
        },
        "id": "XwRKLXzFbSEP",
        "outputId": "2c632b34-649b-4c87-ad9c-d9a8cb7bdb94"
      },
      "execution_count": 22,
      "outputs": [
        {
          "output_type": "stream",
          "name": "stdout",
          "text": [
            "Accuracy: 0.05\n",
            "Precision: 0.05\n",
            "Recall: 0.05\n"
          ]
        }
      ]
    }
  ]
}